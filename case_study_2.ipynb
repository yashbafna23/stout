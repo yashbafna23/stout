{
 "cells": [
  {
   "cell_type": "code",
   "execution_count": 1,
   "id": "e798ac73",
   "metadata": {},
   "outputs": [],
   "source": [
    "import pandas as pd\n",
    "import matplotlib\n",
    "from matplotlib import pylab as plt\n",
    "\n",
    "\n",
    "df=pd.read_csv(\"casestudy.csv\")\n",
    "temp=df.iloc[: , 1:]"
   ]
  },
  {
   "cell_type": "code",
   "execution_count": 2,
   "id": "50c9b5d0",
   "metadata": {},
   "outputs": [
    {
     "data": {
      "text/html": [
       "<div>\n",
       "<style scoped>\n",
       "    .dataframe tbody tr th:only-of-type {\n",
       "        vertical-align: middle;\n",
       "    }\n",
       "\n",
       "    .dataframe tbody tr th {\n",
       "        vertical-align: top;\n",
       "    }\n",
       "\n",
       "    .dataframe thead th {\n",
       "        text-align: right;\n",
       "    }\n",
       "</style>\n",
       "<table border=\"1\" class=\"dataframe\">\n",
       "  <thead>\n",
       "    <tr style=\"text-align: right;\">\n",
       "      <th></th>\n",
       "      <th>Unnamed: 0</th>\n",
       "      <th>customer_email</th>\n",
       "      <th>net_revenue</th>\n",
       "      <th>year</th>\n",
       "    </tr>\n",
       "  </thead>\n",
       "  <tbody>\n",
       "    <tr>\n",
       "      <th>0</th>\n",
       "      <td>0</td>\n",
       "      <td>nhknapwsbx@gmail.com</td>\n",
       "      <td>249.92</td>\n",
       "      <td>2015</td>\n",
       "    </tr>\n",
       "    <tr>\n",
       "      <th>1</th>\n",
       "      <td>1</td>\n",
       "      <td>joiuzbvcpn@gmail.com</td>\n",
       "      <td>87.61</td>\n",
       "      <td>2015</td>\n",
       "    </tr>\n",
       "    <tr>\n",
       "      <th>2</th>\n",
       "      <td>2</td>\n",
       "      <td>ukkjctepxt@gmail.com</td>\n",
       "      <td>168.38</td>\n",
       "      <td>2015</td>\n",
       "    </tr>\n",
       "    <tr>\n",
       "      <th>3</th>\n",
       "      <td>3</td>\n",
       "      <td>gykatilzrt@gmail.com</td>\n",
       "      <td>62.40</td>\n",
       "      <td>2015</td>\n",
       "    </tr>\n",
       "    <tr>\n",
       "      <th>4</th>\n",
       "      <td>4</td>\n",
       "      <td>mmsgsrtxah@gmail.com</td>\n",
       "      <td>43.08</td>\n",
       "      <td>2015</td>\n",
       "    </tr>\n",
       "    <tr>\n",
       "      <th>...</th>\n",
       "      <td>...</td>\n",
       "      <td>...</td>\n",
       "      <td>...</td>\n",
       "      <td>...</td>\n",
       "    </tr>\n",
       "    <tr>\n",
       "      <th>685922</th>\n",
       "      <td>685922</td>\n",
       "      <td>qzqttwiftu@gmail.com</td>\n",
       "      <td>184.58</td>\n",
       "      <td>2017</td>\n",
       "    </tr>\n",
       "    <tr>\n",
       "      <th>685923</th>\n",
       "      <td>685923</td>\n",
       "      <td>pjodiifjop@gmail.com</td>\n",
       "      <td>133.03</td>\n",
       "      <td>2017</td>\n",
       "    </tr>\n",
       "    <tr>\n",
       "      <th>685924</th>\n",
       "      <td>685924</td>\n",
       "      <td>appaplmgko@gmail.com</td>\n",
       "      <td>200.98</td>\n",
       "      <td>2017</td>\n",
       "    </tr>\n",
       "    <tr>\n",
       "      <th>685925</th>\n",
       "      <td>685925</td>\n",
       "      <td>wvkpmwsgck@gmail.com</td>\n",
       "      <td>235.35</td>\n",
       "      <td>2017</td>\n",
       "    </tr>\n",
       "    <tr>\n",
       "      <th>685926</th>\n",
       "      <td>685926</td>\n",
       "      <td>aregboumbw@gmail.com</td>\n",
       "      <td>208.43</td>\n",
       "      <td>2017</td>\n",
       "    </tr>\n",
       "  </tbody>\n",
       "</table>\n",
       "<p>685927 rows × 4 columns</p>\n",
       "</div>"
      ],
      "text/plain": [
       "        Unnamed: 0         customer_email  net_revenue  year\n",
       "0                0   nhknapwsbx@gmail.com       249.92  2015\n",
       "1                1   joiuzbvcpn@gmail.com        87.61  2015\n",
       "2                2   ukkjctepxt@gmail.com       168.38  2015\n",
       "3                3   gykatilzrt@gmail.com        62.40  2015\n",
       "4                4   mmsgsrtxah@gmail.com        43.08  2015\n",
       "...            ...                    ...          ...   ...\n",
       "685922      685922   qzqttwiftu@gmail.com       184.58  2017\n",
       "685923      685923   pjodiifjop@gmail.com       133.03  2017\n",
       "685924      685924   appaplmgko@gmail.com       200.98  2017\n",
       "685925      685925   wvkpmwsgck@gmail.com       235.35  2017\n",
       "685926      685926   aregboumbw@gmail.com       208.43  2017\n",
       "\n",
       "[685927 rows x 4 columns]"
      ]
     },
     "execution_count": 2,
     "metadata": {},
     "output_type": "execute_result"
    }
   ],
   "source": [
    "df"
   ]
  },
  {
   "cell_type": "markdown",
   "id": "554d655c",
   "metadata": {},
   "source": [
    "Performing some EDA"
   ]
  },
  {
   "cell_type": "code",
   "execution_count": 10,
   "id": "25527f58",
   "metadata": {},
   "outputs": [
    {
     "data": {
      "image/png": "[encoded data removed]",
      "text/plain": [
       "<Figure size 432x288 with 1 Axes>"
      ]
     },
     "metadata": {
      "needs_background": "light"
     },
     "output_type": "display_data"
    }
   ],
   "source": [
    "df[['net_revenue','year']].boxplot(by='year')\n",
    "plt.ylabel('net_revenue')\n",
    "plt.show()"
   ]
  },
  {
   "cell_type": "code",
   "execution_count": 3,
   "id": "bede9b5d",
   "metadata": {},
   "outputs": [
    {
     "data": {
      "image/png": "[encoded data removed]",
      "text/plain": [
       "<Figure size 432x288 with 1 Axes>"
      ]
     },
     "metadata": {
      "needs_background": "light"
     },
     "output_type": "display_data"
    }
   ],
   "source": [
    "df['net_revenue'].plot.hist(bins=200) \n",
    "plt.xlabel('net_revenue')\n",
    "plt.ylabel('count')\n",
    "plt.show()"
   ]
  },
  {
   "cell_type": "code",
   "execution_count": 31,
   "id": "b987656d",
   "metadata": {},
   "outputs": [
    {
     "data": {
      "image/png": "[encoded data removed]",
      "text/plain": [
       "<Figure size 432x288 with 1 Axes>"
      ]
     },
     "metadata": {
      "needs_background": "light"
     },
     "output_type": "display_data"
    }
   ],
   "source": [
    "df['net_revenue'].plot.hist() \n",
    "#plt.semilogx()\n",
    "plt.semilogy()\n",
    "plt.xlabel('net_revenue')\n",
    "plt.ylabel('count')\n",
    "plt.show()"
   ]
  },
  {
   "cell_type": "code",
   "execution_count": 6,
   "id": "c49a8b97",
   "metadata": {},
   "outputs": [
    {
     "data": {
      "image/png": "[encoded data removed]",
      "text/plain": [
       "<Figure size 432x288 with 1 Axes>"
      ]
     },
     "metadata": {
      "needs_background": "light"
     },
     "output_type": "display_data"
    }
   ],
   "source": [
    "df['net_revenue'].plot.hist() \n",
    "plt.semilogx()\n",
    "plt.semilogy()\n",
    "plt.xlabel('net_revenue')\n",
    "plt.ylabel('count')\n",
    "plt.show()"
   ]
  },
  {
   "cell_type": "markdown",
   "id": "53cd8a72",
   "metadata": {},
   "source": [
    "Answering the questions"
   ]
  },
  {
   "cell_type": "code",
   "execution_count": 11,
   "id": "35a42ce6",
   "metadata": {},
   "outputs": [
    {
     "name": "stdout",
     "output_type": "stream",
     "text": [
      "Total number of revenue for each year\n"
     ]
    },
    {
     "data": {
      "text/html": [
       "<div>\n",
       "<style scoped>\n",
       "    .dataframe tbody tr th:only-of-type {\n",
       "        vertical-align: middle;\n",
       "    }\n",
       "\n",
       "    .dataframe tbody tr th {\n",
       "        vertical-align: top;\n",
       "    }\n",
       "\n",
       "    .dataframe thead th {\n",
       "        text-align: right;\n",
       "    }\n",
       "</style>\n",
       "<table border=\"1\" class=\"dataframe\">\n",
       "  <thead>\n",
       "    <tr style=\"text-align: right;\">\n",
       "      <th></th>\n",
       "      <th>net_revenue</th>\n",
       "    </tr>\n",
       "    <tr>\n",
       "      <th>year</th>\n",
       "      <th></th>\n",
       "    </tr>\n",
       "  </thead>\n",
       "  <tbody>\n",
       "    <tr>\n",
       "      <th>2015</th>\n",
       "      <td>29036749.19</td>\n",
       "    </tr>\n",
       "    <tr>\n",
       "      <th>2016</th>\n",
       "      <td>25730943.59</td>\n",
       "    </tr>\n",
       "    <tr>\n",
       "      <th>2017</th>\n",
       "      <td>31417495.03</td>\n",
       "    </tr>\n",
       "  </tbody>\n",
       "</table>\n",
       "</div>"
      ],
      "text/plain": [
       "      net_revenue\n",
       "year             \n",
       "2015  29036749.19\n",
       "2016  25730943.59\n",
       "2017  31417495.03"
      ]
     },
     "execution_count": 11,
     "metadata": {},
     "output_type": "execute_result"
    }
   ],
   "source": [
    "print(\"Total number of revenue for each year\")\n",
    "temp.groupby(['year']).sum()"
   ]
  },
  {
   "cell_type": "code",
   "execution_count": 12,
   "id": "593cfda5",
   "metadata": {},
   "outputs": [],
   "source": [
    "d2015={}\n",
    "d2016={}\n",
    "d2017={}\n",
    "temp.sort_values(by=['year'])\n",
    "df2015 = temp[temp['year'] == 2015]\n",
    "df2016 = temp[temp['year'] == 2016]\n",
    "df2017 = temp[temp['year'] == 2017]"
   ]
  },
  {
   "cell_type": "code",
   "execution_count": 13,
   "id": "015eee53",
   "metadata": {},
   "outputs": [
    {
     "name": "stdout",
     "output_type": "stream",
     "text": [
      "Since there is no previous year for 2015, every customer in 2015 is a new customer\n",
      "New customer revenue for 2015:- 29036749.0\n",
      "New customer revenue for 2016:-  18245491\n",
      "New customer revenue for 2017:-  28776235\n"
     ]
    }
   ],
   "source": [
    "s2016=0\n",
    "s2017=0\n",
    "print(\"Since there is no previous year for 2015, every customer in 2015 is a new customer\")\n",
    "print(\"New customer revenue for 2015:-\" ,df2015[\"net_revenue\"].sum().round())\n",
    "for index, row in df2015.iterrows():\n",
    "    if row['customer_email'] not in d2015 :\n",
    "        d2015[row['customer_email']]=row[\"net_revenue\"]\n",
    "    else:\n",
    "        d2015[row['customer_email']]+=row[\"net_revenue\"]\n",
    "        \n",
    "for index, row in df2016.iterrows():\n",
    "    if row['customer_email'] not in d2015 :\n",
    "        s2016+=row[\"net_revenue\"]\n",
    "    if row['customer_email'] not in d2016 :\n",
    "        d2016[row['customer_email']]=row[\"net_revenue\"]\n",
    "    else:\n",
    "        d2016[row['customer_email']]+=row[\"net_revenue\"]\n",
    "print(\"New customer revenue for 2016:- \",round(s2016))\n",
    "for index, row in df2017.iterrows():\n",
    "    if row['customer_email'] not in d2016 :\n",
    "        s2017+=row[\"net_revenue\"]\n",
    "    if row['customer_email'] not in d2017 :\n",
    "        d2017[row['customer_email']]=row[\"net_revenue\"]\n",
    "    else:\n",
    "        d2017[row['customer_email']]+=row[\"net_revenue\"]\n",
    "print(\"New customer revenue for 2017:- \",round(s2017))"
   ]
  },
  {
   "cell_type": "code",
   "execution_count": 14,
   "id": "9455e5f8",
   "metadata": {},
   "outputs": [
    {
     "name": "stdout",
     "output_type": "stream",
     "text": [
      "Existing customer growth for 2016:-  20335\n",
      "Existing customer growth for 2017:-  20611\n",
      "Here we can see that in the year 2017, there has not been any growth, instead there has been a loss\n"
     ]
    }
   ],
   "source": [
    "s=0\n",
    "for i in d2016:\n",
    "    if i in d2015 :\n",
    "        s+=d2016[i]-d2015[i]\n",
    "print(\"Existing customer growth for 2016:- \",round(s))\n",
    "s=0\n",
    "for i in d2017:\n",
    "    if i in d2016 :\n",
    "        s+=d2017[i]-d2016[i]     \n",
    "print(\"Existing customer growth for 2017:- \",round(s))\n",
    "print(\"Here we can see that in the year 2017, there has not been any growth, instead there has been a loss\")"
   ]
  },
  {
   "cell_type": "code",
   "execution_count": 15,
   "id": "4cf29632",
   "metadata": {},
   "outputs": [
    {
     "name": "stdout",
     "output_type": "stream",
     "text": [
      "Existing Customer Revenue for 2016:-  7485453\n",
      "Existing Customer Revenue for 2017:-  2641260\n"
     ]
    }
   ],
   "source": [
    "s=0\n",
    "for i in d2016:\n",
    "    if i in d2015 :\n",
    "        s+=d2016[i]\n",
    "print(\"Existing Customer Revenue for 2016:- \",round(s))\n",
    "s=0\n",
    "for i in d2017:\n",
    "    if i in d2016 :\n",
    "        s+=d2017[i]\n",
    "print(\"Existing Customer Revenue for 2017:- \",round(s))"
   ]
  },
  {
   "cell_type": "code",
   "execution_count": 16,
   "id": "402ae16a",
   "metadata": {},
   "outputs": [
    {
     "name": "stdout",
     "output_type": "stream",
     "text": [
      "Existing Customer Revenue of prior year for 2016:-  7465117\n",
      "Existing Customer Revenue for prior year 2017:-  2620649\n"
     ]
    }
   ],
   "source": [
    "s=0\n",
    "for i in d2016:\n",
    "    if i in d2015 :\n",
    "        s+=d2015[i]\n",
    "print(\"Existing Customer Revenue of prior year for 2016:- \",round(s))\n",
    "s=0\n",
    "for i in d2017:\n",
    "    if i in d2016 :\n",
    "        s+=d2016[i]\n",
    "print(\"Existing Customer Revenue for prior year 2017:- \",round(s))"
   ]
  },
  {
   "cell_type": "code",
   "execution_count": 17,
   "id": "4ab3dfd8",
   "metadata": {},
   "outputs": [
    {
     "name": "stdout",
     "output_type": "stream",
     "text": [
      "Total customers for 2015:-  231294\n",
      "Total customers for 2016:-  204646\n",
      "Total customers for 2017:-  249987\n"
     ]
    }
   ],
   "source": [
    "print(\"Total customers for 2015:- \",sum([1 for i in d2015.keys()]))\n",
    "print(\"Total customers for 2016:- \",sum([1 for i in d2016.keys()]))\n",
    "print(\"Total customers for 2017:- \",sum([1 for i in d2017.keys()]))"
   ]
  },
  {
   "cell_type": "code",
   "execution_count": 18,
   "id": "19b9982d",
   "metadata": {},
   "outputs": [
    {
     "name": "stdout",
     "output_type": "stream",
     "text": [
      "Total new customers for 2016:-  145062\n",
      "Total new customers for 2017:-  229028\n"
     ]
    }
   ],
   "source": [
    "s=0\n",
    "for i in d2016:\n",
    "    if i not in d2015 :\n",
    "        s+=1        \n",
    "print(\"Total new customers for 2016:- \",s)\n",
    "s=0\n",
    "for i in d2017:\n",
    "    if i not in d2016 :\n",
    "        s+=1\n",
    "print(\"Total new customers for 2017:- \",s)"
   ]
  },
  {
   "cell_type": "code",
   "execution_count": 19,
   "id": "298b123d",
   "metadata": {},
   "outputs": [
    {
     "name": "stdout",
     "output_type": "stream",
     "text": [
      "Total customers lost for 2016:-  171710\n",
      "Total customers lost for 2017:-  183687\n"
     ]
    }
   ],
   "source": [
    "s=0\n",
    "for i in d2015:\n",
    "    if i not in d2016 :\n",
    "        s+=1        \n",
    "print(\"Total customers lost for 2016:- \",s)\n",
    "s=0\n",
    "for i in d2016:\n",
    "    if i not in d2017 :\n",
    "        s+=1\n",
    "print(\"Total customers lost for 2017:- \",s)"
   ]
  },
  {
   "cell_type": "code",
   "execution_count": null,
   "id": "6d8b841f",
   "metadata": {},
   "outputs": [],
   "source": []
  }
 ],
 "metadata": {
  "kernelspec": {
   "display_name": "Python 3",
   "language": "python",
   "name": "python3"
  },
  "language_info": {
   "codemirror_mode": {
    "name": "ipython",
    "version": 3
   },
   "file_extension": ".py",
   "mimetype": "text/x-python",
   "name": "python",
   "nbconvert_exporter": "python",
   "pygments_lexer": "ipython3",
   "version": "3.8.8"
  }
 },
 "nbformat": 4,
 "nbformat_minor": 5
}
