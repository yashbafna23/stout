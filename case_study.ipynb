{
 "cells": [
  {
   "cell_type": "code",
   "execution_count": 1,
   "id": "43ace07a",
   "metadata": {},
   "outputs": [],
   "source": [
    "import numpy as np\n",
    "import pandas as pd\n",
    "import json\n",
    "import matplotlib\n",
    "\n",
    "from matplotlib import pylab as plt\n",
    "\n",
    "\n",
    "from sklearn.preprocessing import OneHotEncoder\n",
    "from sklearn.preprocessing import MinMaxScaler\n",
    "from sklearn.compose import ColumnTransformer\n",
    "from sklearn.pipeline import Pipeline\n",
    "from sklearn.preprocessing import OneHotEncoder, MinMaxScaler, OrdinalEncoder\n",
    "\n",
    "from sklearn import metrics #Import scikit-learn metrics module for accuracy calculation\n"
   ]
  },
  {
   "cell_type": "code",
   "execution_count": 2,
   "id": "4b729163",
   "metadata": {},
   "outputs": [
    {
     "data": {
      "text/html": [
       "<div>\n",
       "<style scoped>\n",
       "    .dataframe tbody tr th:only-of-type {\n",
       "        vertical-align: middle;\n",
       "    }\n",
       "\n",
       "    .dataframe tbody tr th {\n",
       "        vertical-align: top;\n",
       "    }\n",
       "\n",
       "    .dataframe thead th {\n",
       "        text-align: right;\n",
       "    }\n",
       "</style>\n",
       "<table border=\"1\" class=\"dataframe\">\n",
       "  <thead>\n",
       "    <tr style=\"text-align: right;\">\n",
       "      <th></th>\n",
       "      <th>emp_title</th>\n",
       "      <th>emp_length</th>\n",
       "      <th>state</th>\n",
       "      <th>homeownership</th>\n",
       "      <th>annual_income</th>\n",
       "      <th>verified_income</th>\n",
       "      <th>debt_to_income</th>\n",
       "      <th>annual_income_joint</th>\n",
       "      <th>verification_income_joint</th>\n",
       "      <th>debt_to_income_joint</th>\n",
       "      <th>...</th>\n",
       "      <th>sub_grade</th>\n",
       "      <th>issue_month</th>\n",
       "      <th>loan_status</th>\n",
       "      <th>initial_listing_status</th>\n",
       "      <th>disbursement_method</th>\n",
       "      <th>balance</th>\n",
       "      <th>paid_total</th>\n",
       "      <th>paid_principal</th>\n",
       "      <th>paid_interest</th>\n",
       "      <th>paid_late_fees</th>\n",
       "    </tr>\n",
       "  </thead>\n",
       "  <tbody>\n",
       "    <tr>\n",
       "      <th>0</th>\n",
       "      <td>global config engineer</td>\n",
       "      <td>3.0</td>\n",
       "      <td>NJ</td>\n",
       "      <td>MORTGAGE</td>\n",
       "      <td>90000.0</td>\n",
       "      <td>Verified</td>\n",
       "      <td>18.01</td>\n",
       "      <td>NaN</td>\n",
       "      <td>NaN</td>\n",
       "      <td>NaN</td>\n",
       "      <td>...</td>\n",
       "      <td>C3</td>\n",
       "      <td>Mar-2018</td>\n",
       "      <td>Current</td>\n",
       "      <td>whole</td>\n",
       "      <td>Cash</td>\n",
       "      <td>27015.86</td>\n",
       "      <td>1999.33</td>\n",
       "      <td>984.14</td>\n",
       "      <td>1015.19</td>\n",
       "      <td>0.0</td>\n",
       "    </tr>\n",
       "    <tr>\n",
       "      <th>1</th>\n",
       "      <td>warehouse office clerk</td>\n",
       "      <td>10.0</td>\n",
       "      <td>HI</td>\n",
       "      <td>RENT</td>\n",
       "      <td>40000.0</td>\n",
       "      <td>Not Verified</td>\n",
       "      <td>5.04</td>\n",
       "      <td>NaN</td>\n",
       "      <td>NaN</td>\n",
       "      <td>NaN</td>\n",
       "      <td>...</td>\n",
       "      <td>C1</td>\n",
       "      <td>Feb-2018</td>\n",
       "      <td>Current</td>\n",
       "      <td>whole</td>\n",
       "      <td>Cash</td>\n",
       "      <td>4651.37</td>\n",
       "      <td>499.12</td>\n",
       "      <td>348.63</td>\n",
       "      <td>150.49</td>\n",
       "      <td>0.0</td>\n",
       "    </tr>\n",
       "    <tr>\n",
       "      <th>2</th>\n",
       "      <td>assembly</td>\n",
       "      <td>3.0</td>\n",
       "      <td>WI</td>\n",
       "      <td>RENT</td>\n",
       "      <td>40000.0</td>\n",
       "      <td>Source Verified</td>\n",
       "      <td>21.15</td>\n",
       "      <td>NaN</td>\n",
       "      <td>NaN</td>\n",
       "      <td>NaN</td>\n",
       "      <td>...</td>\n",
       "      <td>D1</td>\n",
       "      <td>Feb-2018</td>\n",
       "      <td>Current</td>\n",
       "      <td>fractional</td>\n",
       "      <td>Cash</td>\n",
       "      <td>1824.63</td>\n",
       "      <td>281.80</td>\n",
       "      <td>175.37</td>\n",
       "      <td>106.43</td>\n",
       "      <td>0.0</td>\n",
       "    </tr>\n",
       "    <tr>\n",
       "      <th>3</th>\n",
       "      <td>customer service</td>\n",
       "      <td>1.0</td>\n",
       "      <td>PA</td>\n",
       "      <td>RENT</td>\n",
       "      <td>30000.0</td>\n",
       "      <td>Not Verified</td>\n",
       "      <td>10.16</td>\n",
       "      <td>NaN</td>\n",
       "      <td>NaN</td>\n",
       "      <td>NaN</td>\n",
       "      <td>...</td>\n",
       "      <td>A3</td>\n",
       "      <td>Jan-2018</td>\n",
       "      <td>Current</td>\n",
       "      <td>whole</td>\n",
       "      <td>Cash</td>\n",
       "      <td>18853.26</td>\n",
       "      <td>3312.89</td>\n",
       "      <td>2746.74</td>\n",
       "      <td>566.15</td>\n",
       "      <td>0.0</td>\n",
       "    </tr>\n",
       "    <tr>\n",
       "      <th>4</th>\n",
       "      <td>security supervisor</td>\n",
       "      <td>10.0</td>\n",
       "      <td>CA</td>\n",
       "      <td>RENT</td>\n",
       "      <td>35000.0</td>\n",
       "      <td>Verified</td>\n",
       "      <td>57.96</td>\n",
       "      <td>57000.0</td>\n",
       "      <td>Verified</td>\n",
       "      <td>37.66</td>\n",
       "      <td>...</td>\n",
       "      <td>C3</td>\n",
       "      <td>Mar-2018</td>\n",
       "      <td>Current</td>\n",
       "      <td>whole</td>\n",
       "      <td>Cash</td>\n",
       "      <td>21430.15</td>\n",
       "      <td>2324.65</td>\n",
       "      <td>1569.85</td>\n",
       "      <td>754.80</td>\n",
       "      <td>0.0</td>\n",
       "    </tr>\n",
       "    <tr>\n",
       "      <th>...</th>\n",
       "      <td>...</td>\n",
       "      <td>...</td>\n",
       "      <td>...</td>\n",
       "      <td>...</td>\n",
       "      <td>...</td>\n",
       "      <td>...</td>\n",
       "      <td>...</td>\n",
       "      <td>...</td>\n",
       "      <td>...</td>\n",
       "      <td>...</td>\n",
       "      <td>...</td>\n",
       "      <td>...</td>\n",
       "      <td>...</td>\n",
       "      <td>...</td>\n",
       "      <td>...</td>\n",
       "      <td>...</td>\n",
       "      <td>...</td>\n",
       "      <td>...</td>\n",
       "      <td>...</td>\n",
       "      <td>...</td>\n",
       "      <td>...</td>\n",
       "    </tr>\n",
       "    <tr>\n",
       "      <th>9995</th>\n",
       "      <td>owner</td>\n",
       "      <td>10.0</td>\n",
       "      <td>TX</td>\n",
       "      <td>RENT</td>\n",
       "      <td>108000.0</td>\n",
       "      <td>Source Verified</td>\n",
       "      <td>22.28</td>\n",
       "      <td>NaN</td>\n",
       "      <td>NaN</td>\n",
       "      <td>NaN</td>\n",
       "      <td>...</td>\n",
       "      <td>A4</td>\n",
       "      <td>Jan-2018</td>\n",
       "      <td>Current</td>\n",
       "      <td>whole</td>\n",
       "      <td>Cash</td>\n",
       "      <td>21586.34</td>\n",
       "      <td>2969.80</td>\n",
       "      <td>2413.66</td>\n",
       "      <td>556.14</td>\n",
       "      <td>0.0</td>\n",
       "    </tr>\n",
       "    <tr>\n",
       "      <th>9996</th>\n",
       "      <td>director</td>\n",
       "      <td>8.0</td>\n",
       "      <td>PA</td>\n",
       "      <td>MORTGAGE</td>\n",
       "      <td>121000.0</td>\n",
       "      <td>Verified</td>\n",
       "      <td>32.38</td>\n",
       "      <td>NaN</td>\n",
       "      <td>NaN</td>\n",
       "      <td>NaN</td>\n",
       "      <td>...</td>\n",
       "      <td>D3</td>\n",
       "      <td>Feb-2018</td>\n",
       "      <td>Current</td>\n",
       "      <td>whole</td>\n",
       "      <td>Cash</td>\n",
       "      <td>9147.44</td>\n",
       "      <td>1456.31</td>\n",
       "      <td>852.56</td>\n",
       "      <td>603.75</td>\n",
       "      <td>0.0</td>\n",
       "    </tr>\n",
       "    <tr>\n",
       "      <th>9997</th>\n",
       "      <td>toolmaker</td>\n",
       "      <td>10.0</td>\n",
       "      <td>CT</td>\n",
       "      <td>MORTGAGE</td>\n",
       "      <td>67000.0</td>\n",
       "      <td>Verified</td>\n",
       "      <td>45.26</td>\n",
       "      <td>107000.0</td>\n",
       "      <td>Source Verified</td>\n",
       "      <td>29.57</td>\n",
       "      <td>...</td>\n",
       "      <td>E2</td>\n",
       "      <td>Feb-2018</td>\n",
       "      <td>Current</td>\n",
       "      <td>fractional</td>\n",
       "      <td>Cash</td>\n",
       "      <td>27617.65</td>\n",
       "      <td>4620.80</td>\n",
       "      <td>2382.35</td>\n",
       "      <td>2238.45</td>\n",
       "      <td>0.0</td>\n",
       "    </tr>\n",
       "    <tr>\n",
       "      <th>9998</th>\n",
       "      <td>manager</td>\n",
       "      <td>1.0</td>\n",
       "      <td>WI</td>\n",
       "      <td>MORTGAGE</td>\n",
       "      <td>80000.0</td>\n",
       "      <td>Source Verified</td>\n",
       "      <td>11.99</td>\n",
       "      <td>NaN</td>\n",
       "      <td>NaN</td>\n",
       "      <td>NaN</td>\n",
       "      <td>...</td>\n",
       "      <td>A1</td>\n",
       "      <td>Feb-2018</td>\n",
       "      <td>Current</td>\n",
       "      <td>whole</td>\n",
       "      <td>Cash</td>\n",
       "      <td>21518.12</td>\n",
       "      <td>2873.31</td>\n",
       "      <td>2481.88</td>\n",
       "      <td>391.43</td>\n",
       "      <td>0.0</td>\n",
       "    </tr>\n",
       "    <tr>\n",
       "      <th>9999</th>\n",
       "      <td>operations analyst</td>\n",
       "      <td>3.0</td>\n",
       "      <td>CT</td>\n",
       "      <td>RENT</td>\n",
       "      <td>66000.0</td>\n",
       "      <td>Not Verified</td>\n",
       "      <td>20.82</td>\n",
       "      <td>NaN</td>\n",
       "      <td>NaN</td>\n",
       "      <td>NaN</td>\n",
       "      <td>...</td>\n",
       "      <td>B4</td>\n",
       "      <td>Feb-2018</td>\n",
       "      <td>Current</td>\n",
       "      <td>whole</td>\n",
       "      <td>Cash</td>\n",
       "      <td>11574.83</td>\n",
       "      <td>1658.56</td>\n",
       "      <td>1225.17</td>\n",
       "      <td>433.39</td>\n",
       "      <td>0.0</td>\n",
       "    </tr>\n",
       "  </tbody>\n",
       "</table>\n",
       "<p>10000 rows × 55 columns</p>\n",
       "</div>"
      ],
      "text/plain": [
       "                    emp_title  emp_length state homeownership  annual_income  \\\n",
       "0     global config engineer          3.0    NJ      MORTGAGE        90000.0   \n",
       "1      warehouse office clerk        10.0    HI          RENT        40000.0   \n",
       "2                    assembly         3.0    WI          RENT        40000.0   \n",
       "3            customer service         1.0    PA          RENT        30000.0   \n",
       "4        security supervisor         10.0    CA          RENT        35000.0   \n",
       "...                       ...         ...   ...           ...            ...   \n",
       "9995                   owner         10.0    TX          RENT       108000.0   \n",
       "9996                 director         8.0    PA      MORTGAGE       121000.0   \n",
       "9997                toolmaker        10.0    CT      MORTGAGE        67000.0   \n",
       "9998                  manager         1.0    WI      MORTGAGE        80000.0   \n",
       "9999       operations analyst         3.0    CT          RENT        66000.0   \n",
       "\n",
       "      verified_income  debt_to_income  annual_income_joint  \\\n",
       "0            Verified           18.01                  NaN   \n",
       "1        Not Verified            5.04                  NaN   \n",
       "2     Source Verified           21.15                  NaN   \n",
       "3        Not Verified           10.16                  NaN   \n",
       "4            Verified           57.96              57000.0   \n",
       "...               ...             ...                  ...   \n",
       "9995  Source Verified           22.28                  NaN   \n",
       "9996         Verified           32.38                  NaN   \n",
       "9997         Verified           45.26             107000.0   \n",
       "9998  Source Verified           11.99                  NaN   \n",
       "9999     Not Verified           20.82                  NaN   \n",
       "\n",
       "     verification_income_joint  debt_to_income_joint  ...  sub_grade  \\\n",
       "0                          NaN                   NaN  ...         C3   \n",
       "1                          NaN                   NaN  ...         C1   \n",
       "2                          NaN                   NaN  ...         D1   \n",
       "3                          NaN                   NaN  ...         A3   \n",
       "4                     Verified                 37.66  ...         C3   \n",
       "...                        ...                   ...  ...        ...   \n",
       "9995                       NaN                   NaN  ...         A4   \n",
       "9996                       NaN                   NaN  ...         D3   \n",
       "9997           Source Verified                 29.57  ...         E2   \n",
       "9998                       NaN                   NaN  ...         A1   \n",
       "9999                       NaN                   NaN  ...         B4   \n",
       "\n",
       "      issue_month  loan_status  initial_listing_status  disbursement_method  \\\n",
       "0        Mar-2018      Current                   whole                 Cash   \n",
       "1        Feb-2018      Current                   whole                 Cash   \n",
       "2        Feb-2018      Current              fractional                 Cash   \n",
       "3        Jan-2018      Current                   whole                 Cash   \n",
       "4        Mar-2018      Current                   whole                 Cash   \n",
       "...           ...          ...                     ...                  ...   \n",
       "9995     Jan-2018      Current                   whole                 Cash   \n",
       "9996     Feb-2018      Current                   whole                 Cash   \n",
       "9997     Feb-2018      Current              fractional                 Cash   \n",
       "9998     Feb-2018      Current                   whole                 Cash   \n",
       "9999     Feb-2018      Current                   whole                 Cash   \n",
       "\n",
       "       balance  paid_total  paid_principal  paid_interest  paid_late_fees  \n",
       "0     27015.86     1999.33          984.14        1015.19             0.0  \n",
       "1      4651.37      499.12          348.63         150.49             0.0  \n",
       "2      1824.63      281.80          175.37         106.43             0.0  \n",
       "3     18853.26     3312.89         2746.74         566.15             0.0  \n",
       "4     21430.15     2324.65         1569.85         754.80             0.0  \n",
       "...        ...         ...             ...            ...             ...  \n",
       "9995  21586.34     2969.80         2413.66         556.14             0.0  \n",
       "9996   9147.44     1456.31          852.56         603.75             0.0  \n",
       "9997  27617.65     4620.80         2382.35        2238.45             0.0  \n",
       "9998  21518.12     2873.31         2481.88         391.43             0.0  \n",
       "9999  11574.83     1658.56         1225.17         433.39             0.0  \n",
       "\n",
       "[10000 rows x 55 columns]"
      ]
     },
     "execution_count": 2,
     "metadata": {},
     "output_type": "execute_result"
    }
   ],
   "source": [
    "df = pd.read_csv('loans_full_schema.csv')\n",
    "df"
   ]
  },
  {
   "cell_type": "markdown",
   "id": "513050aa",
   "metadata": {},
   "source": [
    "Following is some EDA that I performed"
   ]
  },
  {
   "cell_type": "code",
   "execution_count": 3,
   "id": "1404d370",
   "metadata": {},
   "outputs": [
    {
     "data": {
      "text/plain": [
       "Index(['emp_title', 'emp_length', 'state', 'homeownership', 'annual_income',\n",
       "       'verified_income', 'debt_to_income', 'annual_income_joint',\n",
       "       'verification_income_joint', 'debt_to_income_joint', 'delinq_2y',\n",
       "       'months_since_last_delinq', 'earliest_credit_line',\n",
       "       'inquiries_last_12m', 'total_credit_lines', 'open_credit_lines',\n",
       "       'total_credit_limit', 'total_credit_utilized',\n",
       "       'num_collections_last_12m', 'num_historical_failed_to_pay',\n",
       "       'months_since_90d_late', 'current_accounts_delinq',\n",
       "       'total_collection_amount_ever', 'current_installment_accounts',\n",
       "       'accounts_opened_24m', 'months_since_last_credit_inquiry',\n",
       "       'num_satisfactory_accounts', 'num_accounts_120d_past_due',\n",
       "       'num_accounts_30d_past_due', 'num_active_debit_accounts',\n",
       "       'total_debit_limit', 'num_total_cc_accounts', 'num_open_cc_accounts',\n",
       "       'num_cc_carrying_balance', 'num_mort_accounts',\n",
       "       'account_never_delinq_percent', 'tax_liens', 'public_record_bankrupt',\n",
       "       'loan_purpose', 'application_type', 'loan_amount', 'term',\n",
       "       'interest_rate', 'installment', 'grade', 'sub_grade', 'issue_month',\n",
       "       'loan_status', 'initial_listing_status', 'disbursement_method',\n",
       "       'balance', 'paid_total', 'paid_principal', 'paid_interest',\n",
       "       'paid_late_fees'],\n",
       "      dtype='object')"
      ]
     },
     "execution_count": 3,
     "metadata": {},
     "output_type": "execute_result"
    }
   ],
   "source": [
    "df.columns"
   ]
  },
  {
   "cell_type": "code",
   "execution_count": 4,
   "id": "7f623506",
   "metadata": {},
   "outputs": [
    {
     "data": {
      "text/plain": [
       "(10000, 55)"
      ]
     },
     "execution_count": 4,
     "metadata": {},
     "output_type": "execute_result"
    }
   ],
   "source": [
    "df.shape"
   ]
  },
  {
   "cell_type": "code",
   "execution_count": 5,
   "id": "72b6b9da",
   "metadata": {},
   "outputs": [
    {
     "data": {
      "text/plain": [
       "10000"
      ]
     },
     "execution_count": 5,
     "metadata": {},
     "output_type": "execute_result"
    }
   ],
   "source": [
    "df.shape[0] # number of rows"
   ]
  },
  {
   "cell_type": "code",
   "execution_count": 6,
   "id": "e42ba01e",
   "metadata": {},
   "outputs": [
    {
     "data": {
      "text/plain": [
       "55"
      ]
     },
     "execution_count": 6,
     "metadata": {},
     "output_type": "execute_result"
    }
   ],
   "source": [
    "df.shape[1] # number of cols"
   ]
  },
  {
   "cell_type": "code",
   "execution_count": 7,
   "id": "50d6ceec",
   "metadata": {},
   "outputs": [
    {
     "data": {
      "text/html": [
       "<div>\n",
       "<style scoped>\n",
       "    .dataframe tbody tr th:only-of-type {\n",
       "        vertical-align: middle;\n",
       "    }\n",
       "\n",
       "    .dataframe tbody tr th {\n",
       "        vertical-align: top;\n",
       "    }\n",
       "\n",
       "    .dataframe thead th {\n",
       "        text-align: right;\n",
       "    }\n",
       "</style>\n",
       "<table border=\"1\" class=\"dataframe\">\n",
       "  <thead>\n",
       "    <tr style=\"text-align: right;\">\n",
       "      <th></th>\n",
       "      <th>emp_length</th>\n",
       "      <th>annual_income</th>\n",
       "      <th>debt_to_income</th>\n",
       "      <th>annual_income_joint</th>\n",
       "      <th>debt_to_income_joint</th>\n",
       "      <th>delinq_2y</th>\n",
       "      <th>months_since_last_delinq</th>\n",
       "      <th>earliest_credit_line</th>\n",
       "      <th>inquiries_last_12m</th>\n",
       "      <th>total_credit_lines</th>\n",
       "      <th>...</th>\n",
       "      <th>public_record_bankrupt</th>\n",
       "      <th>loan_amount</th>\n",
       "      <th>term</th>\n",
       "      <th>interest_rate</th>\n",
       "      <th>installment</th>\n",
       "      <th>balance</th>\n",
       "      <th>paid_total</th>\n",
       "      <th>paid_principal</th>\n",
       "      <th>paid_interest</th>\n",
       "      <th>paid_late_fees</th>\n",
       "    </tr>\n",
       "  </thead>\n",
       "  <tbody>\n",
       "    <tr>\n",
       "      <th>count</th>\n",
       "      <td>9183.000000</td>\n",
       "      <td>1.000000e+04</td>\n",
       "      <td>9976.000000</td>\n",
       "      <td>1.495000e+03</td>\n",
       "      <td>1495.000000</td>\n",
       "      <td>10000.00000</td>\n",
       "      <td>4342.000000</td>\n",
       "      <td>10000.00000</td>\n",
       "      <td>10000.00000</td>\n",
       "      <td>10000.000000</td>\n",
       "      <td>...</td>\n",
       "      <td>10000.000000</td>\n",
       "      <td>10000.000000</td>\n",
       "      <td>10000.000000</td>\n",
       "      <td>10000.000000</td>\n",
       "      <td>10000.000000</td>\n",
       "      <td>10000.000000</td>\n",
       "      <td>10000.000000</td>\n",
       "      <td>10000.000000</td>\n",
       "      <td>10000.000000</td>\n",
       "      <td>10000.000000</td>\n",
       "    </tr>\n",
       "    <tr>\n",
       "      <th>mean</th>\n",
       "      <td>5.930306</td>\n",
       "      <td>7.922215e+04</td>\n",
       "      <td>19.308192</td>\n",
       "      <td>1.279146e+05</td>\n",
       "      <td>19.979304</td>\n",
       "      <td>0.21600</td>\n",
       "      <td>36.760709</td>\n",
       "      <td>2001.29000</td>\n",
       "      <td>1.95820</td>\n",
       "      <td>22.679600</td>\n",
       "      <td>...</td>\n",
       "      <td>0.123800</td>\n",
       "      <td>16361.922500</td>\n",
       "      <td>43.272000</td>\n",
       "      <td>12.427524</td>\n",
       "      <td>476.205323</td>\n",
       "      <td>14458.916610</td>\n",
       "      <td>2494.234773</td>\n",
       "      <td>1894.448466</td>\n",
       "      <td>599.666781</td>\n",
       "      <td>0.119516</td>\n",
       "    </tr>\n",
       "    <tr>\n",
       "      <th>std</th>\n",
       "      <td>3.703734</td>\n",
       "      <td>6.473429e+04</td>\n",
       "      <td>15.004851</td>\n",
       "      <td>7.016838e+04</td>\n",
       "      <td>8.054781</td>\n",
       "      <td>0.68366</td>\n",
       "      <td>21.634939</td>\n",
       "      <td>7.79551</td>\n",
       "      <td>2.38013</td>\n",
       "      <td>11.885439</td>\n",
       "      <td>...</td>\n",
       "      <td>0.337172</td>\n",
       "      <td>10301.956759</td>\n",
       "      <td>11.029877</td>\n",
       "      <td>5.001105</td>\n",
       "      <td>294.851627</td>\n",
       "      <td>9964.561865</td>\n",
       "      <td>3958.230365</td>\n",
       "      <td>3884.407175</td>\n",
       "      <td>517.328062</td>\n",
       "      <td>1.813468</td>\n",
       "    </tr>\n",
       "    <tr>\n",
       "      <th>min</th>\n",
       "      <td>0.000000</td>\n",
       "      <td>0.000000e+00</td>\n",
       "      <td>0.000000</td>\n",
       "      <td>1.920000e+04</td>\n",
       "      <td>0.320000</td>\n",
       "      <td>0.00000</td>\n",
       "      <td>1.000000</td>\n",
       "      <td>1963.00000</td>\n",
       "      <td>0.00000</td>\n",
       "      <td>2.000000</td>\n",
       "      <td>...</td>\n",
       "      <td>0.000000</td>\n",
       "      <td>1000.000000</td>\n",
       "      <td>36.000000</td>\n",
       "      <td>5.310000</td>\n",
       "      <td>30.750000</td>\n",
       "      <td>0.000000</td>\n",
       "      <td>0.000000</td>\n",
       "      <td>0.000000</td>\n",
       "      <td>0.000000</td>\n",
       "      <td>0.000000</td>\n",
       "    </tr>\n",
       "    <tr>\n",
       "      <th>25%</th>\n",
       "      <td>2.000000</td>\n",
       "      <td>4.500000e+04</td>\n",
       "      <td>11.057500</td>\n",
       "      <td>8.683350e+04</td>\n",
       "      <td>14.160000</td>\n",
       "      <td>0.00000</td>\n",
       "      <td>19.000000</td>\n",
       "      <td>1997.00000</td>\n",
       "      <td>0.00000</td>\n",
       "      <td>14.000000</td>\n",
       "      <td>...</td>\n",
       "      <td>0.000000</td>\n",
       "      <td>8000.000000</td>\n",
       "      <td>36.000000</td>\n",
       "      <td>9.430000</td>\n",
       "      <td>256.040000</td>\n",
       "      <td>6679.065000</td>\n",
       "      <td>928.700000</td>\n",
       "      <td>587.100000</td>\n",
       "      <td>221.757500</td>\n",
       "      <td>0.000000</td>\n",
       "    </tr>\n",
       "    <tr>\n",
       "      <th>50%</th>\n",
       "      <td>6.000000</td>\n",
       "      <td>6.500000e+04</td>\n",
       "      <td>17.570000</td>\n",
       "      <td>1.130000e+05</td>\n",
       "      <td>19.720000</td>\n",
       "      <td>0.00000</td>\n",
       "      <td>34.000000</td>\n",
       "      <td>2003.00000</td>\n",
       "      <td>1.00000</td>\n",
       "      <td>21.000000</td>\n",
       "      <td>...</td>\n",
       "      <td>0.000000</td>\n",
       "      <td>14500.000000</td>\n",
       "      <td>36.000000</td>\n",
       "      <td>11.980000</td>\n",
       "      <td>398.420000</td>\n",
       "      <td>12379.495000</td>\n",
       "      <td>1563.300000</td>\n",
       "      <td>984.990000</td>\n",
       "      <td>446.140000</td>\n",
       "      <td>0.000000</td>\n",
       "    </tr>\n",
       "    <tr>\n",
       "      <th>75%</th>\n",
       "      <td>10.000000</td>\n",
       "      <td>9.500000e+04</td>\n",
       "      <td>25.002500</td>\n",
       "      <td>1.515455e+05</td>\n",
       "      <td>25.500000</td>\n",
       "      <td>0.00000</td>\n",
       "      <td>53.000000</td>\n",
       "      <td>2006.00000</td>\n",
       "      <td>3.00000</td>\n",
       "      <td>29.000000</td>\n",
       "      <td>...</td>\n",
       "      <td>0.000000</td>\n",
       "      <td>24000.000000</td>\n",
       "      <td>60.000000</td>\n",
       "      <td>15.050000</td>\n",
       "      <td>644.690000</td>\n",
       "      <td>20690.182500</td>\n",
       "      <td>2616.005000</td>\n",
       "      <td>1694.555000</td>\n",
       "      <td>825.420000</td>\n",
       "      <td>0.000000</td>\n",
       "    </tr>\n",
       "    <tr>\n",
       "      <th>max</th>\n",
       "      <td>10.000000</td>\n",
       "      <td>2.300000e+06</td>\n",
       "      <td>469.090000</td>\n",
       "      <td>1.100000e+06</td>\n",
       "      <td>39.980000</td>\n",
       "      <td>13.00000</td>\n",
       "      <td>118.000000</td>\n",
       "      <td>2015.00000</td>\n",
       "      <td>29.00000</td>\n",
       "      <td>87.000000</td>\n",
       "      <td>...</td>\n",
       "      <td>3.000000</td>\n",
       "      <td>40000.000000</td>\n",
       "      <td>60.000000</td>\n",
       "      <td>30.940000</td>\n",
       "      <td>1566.590000</td>\n",
       "      <td>40000.000000</td>\n",
       "      <td>41630.443684</td>\n",
       "      <td>40000.000000</td>\n",
       "      <td>4216.440000</td>\n",
       "      <td>52.980000</td>\n",
       "    </tr>\n",
       "  </tbody>\n",
       "</table>\n",
       "<p>8 rows × 42 columns</p>\n",
       "</div>"
      ],
      "text/plain": [
       "        emp_length  annual_income  debt_to_income  annual_income_joint  \\\n",
       "count  9183.000000   1.000000e+04     9976.000000         1.495000e+03   \n",
       "mean      5.930306   7.922215e+04       19.308192         1.279146e+05   \n",
       "std       3.703734   6.473429e+04       15.004851         7.016838e+04   \n",
       "min       0.000000   0.000000e+00        0.000000         1.920000e+04   \n",
       "25%       2.000000   4.500000e+04       11.057500         8.683350e+04   \n",
       "50%       6.000000   6.500000e+04       17.570000         1.130000e+05   \n",
       "75%      10.000000   9.500000e+04       25.002500         1.515455e+05   \n",
       "max      10.000000   2.300000e+06      469.090000         1.100000e+06   \n",
       "\n",
       "       debt_to_income_joint    delinq_2y  months_since_last_delinq  \\\n",
       "count           1495.000000  10000.00000               4342.000000   \n",
       "mean              19.979304      0.21600                 36.760709   \n",
       "std                8.054781      0.68366                 21.634939   \n",
       "min                0.320000      0.00000                  1.000000   \n",
       "25%               14.160000      0.00000                 19.000000   \n",
       "50%               19.720000      0.00000                 34.000000   \n",
       "75%               25.500000      0.00000                 53.000000   \n",
       "max               39.980000     13.00000                118.000000   \n",
       "\n",
       "       earliest_credit_line  inquiries_last_12m  total_credit_lines  ...  \\\n",
       "count           10000.00000         10000.00000        10000.000000  ...   \n",
       "mean             2001.29000             1.95820           22.679600  ...   \n",
       "std                 7.79551             2.38013           11.885439  ...   \n",
       "min              1963.00000             0.00000            2.000000  ...   \n",
       "25%              1997.00000             0.00000           14.000000  ...   \n",
       "50%              2003.00000             1.00000           21.000000  ...   \n",
       "75%              2006.00000             3.00000           29.000000  ...   \n",
       "max              2015.00000            29.00000           87.000000  ...   \n",
       "\n",
       "       public_record_bankrupt   loan_amount          term  interest_rate  \\\n",
       "count            10000.000000  10000.000000  10000.000000   10000.000000   \n",
       "mean                 0.123800  16361.922500     43.272000      12.427524   \n",
       "std                  0.337172  10301.956759     11.029877       5.001105   \n",
       "min                  0.000000   1000.000000     36.000000       5.310000   \n",
       "25%                  0.000000   8000.000000     36.000000       9.430000   \n",
       "50%                  0.000000  14500.000000     36.000000      11.980000   \n",
       "75%                  0.000000  24000.000000     60.000000      15.050000   \n",
       "max                  3.000000  40000.000000     60.000000      30.940000   \n",
       "\n",
       "        installment       balance    paid_total  paid_principal  \\\n",
       "count  10000.000000  10000.000000  10000.000000    10000.000000   \n",
       "mean     476.205323  14458.916610   2494.234773     1894.448466   \n",
       "std      294.851627   9964.561865   3958.230365     3884.407175   \n",
       "min       30.750000      0.000000      0.000000        0.000000   \n",
       "25%      256.040000   6679.065000    928.700000      587.100000   \n",
       "50%      398.420000  12379.495000   1563.300000      984.990000   \n",
       "75%      644.690000  20690.182500   2616.005000     1694.555000   \n",
       "max     1566.590000  40000.000000  41630.443684    40000.000000   \n",
       "\n",
       "       paid_interest  paid_late_fees  \n",
       "count   10000.000000    10000.000000  \n",
       "mean      599.666781        0.119516  \n",
       "std       517.328062        1.813468  \n",
       "min         0.000000        0.000000  \n",
       "25%       221.757500        0.000000  \n",
       "50%       446.140000        0.000000  \n",
       "75%       825.420000        0.000000  \n",
       "max      4216.440000       52.980000  \n",
       "\n",
       "[8 rows x 42 columns]"
      ]
     },
     "execution_count": 7,
     "metadata": {},
     "output_type": "execute_result"
    }
   ],
   "source": [
    "df.describe() # Summary statistics of the dataset like mean, min, max, etc"
   ]
  },
  {
   "cell_type": "code",
   "execution_count": 8,
   "id": "72c14fde",
   "metadata": {},
   "outputs": [
    {
     "name": "stdout",
     "output_type": "stream",
     "text": [
      "<class 'pandas.core.frame.DataFrame'>\n",
      "RangeIndex: 10000 entries, 0 to 9999\n",
      "Data columns (total 55 columns):\n",
      " #   Column                            Non-Null Count  Dtype  \n",
      "---  ------                            --------------  -----  \n",
      " 0   emp_title                         9167 non-null   object \n",
      " 1   emp_length                        9183 non-null   float64\n",
      " 2   state                             10000 non-null  object \n",
      " 3   homeownership                     10000 non-null  object \n",
      " 4   annual_income                     10000 non-null  float64\n",
      " 5   verified_income                   10000 non-null  object \n",
      " 6   debt_to_income                    9976 non-null   float64\n",
      " 7   annual_income_joint               1495 non-null   float64\n",
      " 8   verification_income_joint         1455 non-null   object \n",
      " 9   debt_to_income_joint              1495 non-null   float64\n",
      " 10  delinq_2y                         10000 non-null  int64  \n",
      " 11  months_since_last_delinq          4342 non-null   float64\n",
      " 12  earliest_credit_line              10000 non-null  int64  \n",
      " 13  inquiries_last_12m                10000 non-null  int64  \n",
      " 14  total_credit_lines                10000 non-null  int64  \n",
      " 15  open_credit_lines                 10000 non-null  int64  \n",
      " 16  total_credit_limit                10000 non-null  int64  \n",
      " 17  total_credit_utilized             10000 non-null  int64  \n",
      " 18  num_collections_last_12m          10000 non-null  int64  \n",
      " 19  num_historical_failed_to_pay      10000 non-null  int64  \n",
      " 20  months_since_90d_late             2285 non-null   float64\n",
      " 21  current_accounts_delinq           10000 non-null  int64  \n",
      " 22  total_collection_amount_ever      10000 non-null  int64  \n",
      " 23  current_installment_accounts      10000 non-null  int64  \n",
      " 24  accounts_opened_24m               10000 non-null  int64  \n",
      " 25  months_since_last_credit_inquiry  8729 non-null   float64\n",
      " 26  num_satisfactory_accounts         10000 non-null  int64  \n",
      " 27  num_accounts_120d_past_due        9682 non-null   float64\n",
      " 28  num_accounts_30d_past_due         10000 non-null  int64  \n",
      " 29  num_active_debit_accounts         10000 non-null  int64  \n",
      " 30  total_debit_limit                 10000 non-null  int64  \n",
      " 31  num_total_cc_accounts             10000 non-null  int64  \n",
      " 32  num_open_cc_accounts              10000 non-null  int64  \n",
      " 33  num_cc_carrying_balance           10000 non-null  int64  \n",
      " 34  num_mort_accounts                 10000 non-null  int64  \n",
      " 35  account_never_delinq_percent      10000 non-null  float64\n",
      " 36  tax_liens                         10000 non-null  int64  \n",
      " 37  public_record_bankrupt            10000 non-null  int64  \n",
      " 38  loan_purpose                      10000 non-null  object \n",
      " 39  application_type                  10000 non-null  object \n",
      " 40  loan_amount                       10000 non-null  int64  \n",
      " 41  term                              10000 non-null  int64  \n",
      " 42  interest_rate                     10000 non-null  float64\n",
      " 43  installment                       10000 non-null  float64\n",
      " 44  grade                             10000 non-null  object \n",
      " 45  sub_grade                         10000 non-null  object \n",
      " 46  issue_month                       10000 non-null  object \n",
      " 47  loan_status                       10000 non-null  object \n",
      " 48  initial_listing_status            10000 non-null  object \n",
      " 49  disbursement_method               10000 non-null  object \n",
      " 50  balance                           10000 non-null  float64\n",
      " 51  paid_total                        10000 non-null  float64\n",
      " 52  paid_principal                    10000 non-null  float64\n",
      " 53  paid_interest                     10000 non-null  float64\n",
      " 54  paid_late_fees                    10000 non-null  float64\n",
      "dtypes: float64(17), int64(25), object(13)\n",
      "memory usage: 4.2+ MB\n"
     ]
    }
   ],
   "source": [
    "df.info() #info about the dataset"
   ]
  },
  {
   "cell_type": "code",
   "execution_count": 9,
   "id": "067367e1",
   "metadata": {},
   "outputs": [
    {
     "data": {
      "text/plain": [
       "emp_title                           4741\n",
       "emp_length                            11\n",
       "state                                 50\n",
       "homeownership                          3\n",
       "annual_income                       1463\n",
       "verified_income                        3\n",
       "debt_to_income                      3673\n",
       "annual_income_joint                  596\n",
       "verification_income_joint              3\n",
       "debt_to_income_joint                1189\n",
       "delinq_2y                             12\n",
       "months_since_last_delinq              97\n",
       "earliest_credit_line                  53\n",
       "inquiries_last_12m                    26\n",
       "total_credit_lines                    78\n",
       "open_credit_lines                     45\n",
       "total_credit_limit                  9119\n",
       "total_credit_utilized               9497\n",
       "num_collections_last_12m               4\n",
       "num_historical_failed_to_pay           9\n",
       "months_since_90d_late                106\n",
       "current_accounts_delinq                2\n",
       "total_collection_amount_ever         896\n",
       "current_installment_accounts          30\n",
       "accounts_opened_24m                   26\n",
       "months_since_last_credit_inquiry      25\n",
       "num_satisfactory_accounts             45\n",
       "num_accounts_120d_past_due             1\n",
       "num_accounts_30d_past_due              2\n",
       "num_active_debit_accounts             25\n",
       "total_debit_limit                   1222\n",
       "num_total_cc_accounts                 56\n",
       "num_open_cc_accounts                  40\n",
       "num_cc_carrying_balance               30\n",
       "num_mort_accounts                     15\n",
       "account_never_delinq_percent         282\n",
       "tax_liens                              9\n",
       "public_record_bankrupt                 4\n",
       "loan_purpose                          12\n",
       "application_type                       2\n",
       "loan_amount                          612\n",
       "term                                   2\n",
       "interest_rate                         58\n",
       "installment                         3540\n",
       "grade                                  7\n",
       "sub_grade                             32\n",
       "issue_month                            3\n",
       "loan_status                            6\n",
       "initial_listing_status                 2\n",
       "disbursement_method                    2\n",
       "balance                             5741\n",
       "paid_total                          7475\n",
       "paid_principal                      5765\n",
       "paid_interest                       7422\n",
       "paid_late_fees                        29\n",
       "dtype: int64"
      ]
     },
     "execution_count": 9,
     "metadata": {},
     "output_type": "execute_result"
    }
   ],
   "source": [
    "df.nunique() #number of unique values per column"
   ]
  },
  {
   "cell_type": "code",
   "execution_count": 10,
   "id": "1c75c183",
   "metadata": {},
   "outputs": [
    {
     "data": {
      "text/plain": [
       "emp_title                            833\n",
       "emp_length                           817\n",
       "state                                  0\n",
       "homeownership                          0\n",
       "annual_income                          0\n",
       "verified_income                        0\n",
       "debt_to_income                        24\n",
       "annual_income_joint                 8505\n",
       "verification_income_joint           8545\n",
       "debt_to_income_joint                8505\n",
       "delinq_2y                              0\n",
       "months_since_last_delinq            5658\n",
       "earliest_credit_line                   0\n",
       "inquiries_last_12m                     0\n",
       "total_credit_lines                     0\n",
       "open_credit_lines                      0\n",
       "total_credit_limit                     0\n",
       "total_credit_utilized                  0\n",
       "num_collections_last_12m               0\n",
       "num_historical_failed_to_pay           0\n",
       "months_since_90d_late               7715\n",
       "current_accounts_delinq                0\n",
       "total_collection_amount_ever           0\n",
       "current_installment_accounts           0\n",
       "accounts_opened_24m                    0\n",
       "months_since_last_credit_inquiry    1271\n",
       "num_satisfactory_accounts              0\n",
       "num_accounts_120d_past_due           318\n",
       "num_accounts_30d_past_due              0\n",
       "num_active_debit_accounts              0\n",
       "total_debit_limit                      0\n",
       "num_total_cc_accounts                  0\n",
       "num_open_cc_accounts                   0\n",
       "num_cc_carrying_balance                0\n",
       "num_mort_accounts                      0\n",
       "account_never_delinq_percent           0\n",
       "tax_liens                              0\n",
       "public_record_bankrupt                 0\n",
       "loan_purpose                           0\n",
       "application_type                       0\n",
       "loan_amount                            0\n",
       "term                                   0\n",
       "interest_rate                          0\n",
       "installment                            0\n",
       "grade                                  0\n",
       "sub_grade                              0\n",
       "issue_month                            0\n",
       "loan_status                            0\n",
       "initial_listing_status                 0\n",
       "disbursement_method                    0\n",
       "balance                                0\n",
       "paid_total                             0\n",
       "paid_principal                         0\n",
       "paid_interest                          0\n",
       "paid_late_fees                         0\n",
       "dtype: int64"
      ]
     },
     "execution_count": 10,
     "metadata": {},
     "output_type": "execute_result"
    }
   ],
   "source": [
    "df.isnull().sum() #total null values per column "
   ]
  },
  {
   "cell_type": "markdown",
   "id": "b1fec84c",
   "metadata": {},
   "source": [
    "What I observed in this dataset is that it involves missing values and they hold NaN value. Some of the columns have majority NaN values and hence we can conclude that they are not helpful during model training. This is why I did not choose them later.  "
   ]
  },
  {
   "cell_type": "code",
   "execution_count": 11,
   "id": "216298ba",
   "metadata": {},
   "outputs": [],
   "source": [
    "df=df.dropna()"
   ]
  },
  {
   "cell_type": "code",
   "execution_count": 12,
   "id": "cc57d5fa",
   "metadata": {},
   "outputs": [
    {
     "data": {
      "image/png": "[encoded data removed]",
      "text/plain": [
       "<Figure size 432x288 with 1 Axes>"
      ]
     },
     "metadata": {
      "needs_background": "light"
     },
     "output_type": "display_data"
    }
   ],
   "source": [
    "df.plot.scatter('debt_to_income','annual_income') # alpha=0.1,s=10\n",
    "plt.show()"
   ]
  },
  {
   "cell_type": "markdown",
   "id": "d528564a",
   "metadata": {},
   "source": [
    "This is a scatter plot which shows the relation between debt_to_income and annual_income. There is no defined pattern as such. We observe that there are more datapoints for debt_to_income for lower annual_income."
   ]
  },
  {
   "cell_type": "code",
   "execution_count": 13,
   "id": "f5855fa1",
   "metadata": {},
   "outputs": [
    {
     "data": {
      "image/png": "[encoded data removed]",
      "text/plain": [
       "<Figure size 432x288 with 2 Axes>"
      ]
     },
     "metadata": {
      "needs_background": "light"
     },
     "output_type": "display_data"
    }
   ],
   "source": [
    "nbins = 20\n",
    "\n",
    "heatmap, xedges, yedges = np.histogram2d(df['balance'], df['paid_total'], bins=nbins)\n",
    "extent = [xedges[0], xedges[-1], yedges[0], yedges[-1]]\n",
    "\n",
    "heatmap[heatmap == 0] = 0.1 # we will use log and log(0) is undefined\n",
    "\n",
    "plt.imshow(np.log10(heatmap).T, origin='lower',vmin=0) # use log count\n",
    "plt.xlabel('balance')\n",
    "plt.ylabel('paid_total')\n",
    "plt.xticks(np.arange(nbins+1)[::4],xedges[::4].astype(int))\n",
    "plt.yticks(np.arange(nbins+1)[::4],yedges[::4].astype(int))\n",
    "plt.colorbar(label='log10(count)')\n",
    "plt.show()"
   ]
  },
  {
   "cell_type": "markdown",
   "id": "7ae15633",
   "metadata": {},
   "source": [
    "This is a heatmap which plots paid_total against balance."
   ]
  },
  {
   "cell_type": "code",
   "execution_count": 14,
   "id": "56a7e137",
   "metadata": {},
   "outputs": [
    {
     "name": "stdout",
     "output_type": "stream",
     "text": [
      "verified_income  Not Verified  Source Verified  Verified\n",
      "homeownership                                           \n",
      "MORTGAGE             0.213740         0.473282  0.312977\n",
      "OWN                  0.157895         0.578947  0.263158\n",
      "RENT                 0.196078         0.470588  0.333333\n"
     ]
    },
    {
     "data": {
      "image/png": "[encoded data removed]",
      "text/plain": [
       "<Figure size 432x288 with 1 Axes>"
      ]
     },
     "metadata": {
      "needs_background": "light"
     },
     "output_type": "display_data"
    }
   ],
   "source": [
    "count_matrix = df.groupby(['homeownership', 'verified_income']).size().unstack()\n",
    "#print(count_matrix)\n",
    "\n",
    "count_matrix_norm = count_matrix.div(count_matrix.sum(axis=1),axis=0)\n",
    "print(count_matrix_norm)\n",
    "count_matrix_norm.plot(kind='bar', stacked=True)\n",
    "plt.ylabel('fraction of people in group')\n",
    "plt.legend(loc=4)\n",
    "plt.show()"
   ]
  },
  {
   "cell_type": "markdown",
   "id": "87794b1c",
   "metadata": {},
   "source": [
    "This is stacked bar plot which plots the different categories of homeownership and verified_income. "
   ]
  },
  {
   "cell_type": "code",
   "execution_count": 15,
   "id": "5e6b7834",
   "metadata": {},
   "outputs": [
    {
     "data": {
      "image/png": "[encoded data removed]",
      "text/plain": [
       "<Figure size 432x288 with 1 Axes>"
      ]
     },
     "metadata": {
      "needs_background": "light"
     },
     "output_type": "display_data"
    }
   ],
   "source": [
    "categories = df['public_record_bankrupt'].unique()\n",
    "bin_range = (df['balance'].min(),df['balance'].max())\n",
    "\n",
    "for c in categories:\n",
    "    plt.hist(df[df['public_record_bankrupt']==c]['balance'],label=c,range=bin_range,bins=50,density=True)\n",
    "plt.legend()\n",
    "plt.ylabel('fraction')\n",
    "plt.xlabel('balance')\n",
    "plt.show()"
   ]
  },
  {
   "cell_type": "markdown",
   "id": "c605d917",
   "metadata": {},
   "source": [
    "This is a category-specific histograms which shows the relation between public_record_bankrupt which is a categorical variable and balance which is a continuous variable."
   ]
  },
  {
   "cell_type": "code",
   "execution_count": 16,
   "id": "db048911",
   "metadata": {},
   "outputs": [
    {
     "data": {
      "image/png": "[encoded data removed]",
      "text/plain": [
       "<Figure size 432x288 with 1 Axes>"
      ]
     },
     "metadata": {
      "needs_background": "light"
     },
     "output_type": "display_data"
    }
   ],
   "source": [
    "df[['loan_amount','verified_income']].boxplot(by='verified_income')\n",
    "plt.ylabel('loan_amount')\n",
    "plt.show()"
   ]
  },
  {
   "cell_type": "markdown",
   "id": "1ea2685d",
   "metadata": {},
   "source": [
    "This is a boxplot which shows the relation between loan_amount and verified_income. "
   ]
  },
  {
   "cell_type": "code",
   "execution_count": null,
   "id": "6a67d651",
   "metadata": {},
   "outputs": [],
   "source": []
  },
  {
   "cell_type": "code",
   "execution_count": 17,
   "id": "50d0555d",
   "metadata": {},
   "outputs": [],
   "source": [
    "y = df['interest_rate'] # target variable\n",
    "X = df[['debt_to_income','paid_late_fees','paid_interest','paid_principal','paid_total','balance','disbursement_method','initial_listing_status','loan_status','installment','interest_rate','loan_amount','public_record_bankrupt','tax_liens','account_never_delinq_percent','num_mort_accounts','num_cc_carrying_balance','num_open_cc_accounts','num_total_cc_accounts','total_debit_limit','num_active_debit_accounts','num_accounts_30d_past_due','num_satisfactory_accounts','accounts_opened_24m','current_installment_accounts','num_historical_failed_to_pay','num_collections_last_12m','total_credit_utilized','total_credit_limit','open_credit_lines','total_credit_lines','inquiries_last_12m','earliest_credit_line','delinq_2y','verified_income','annual_income','homeownership']] # all other columns are features\n"
   ]
  },
  {
   "cell_type": "code",
   "execution_count": 18,
   "id": "1086865f",
   "metadata": {},
   "outputs": [
    {
     "data": {
      "text/plain": [
       "(201, 34)"
      ]
     },
     "execution_count": 18,
     "metadata": {},
     "output_type": "execute_result"
    }
   ],
   "source": [
    "# collect which encoder to use on each feature\n",
    "# needs to be done manually\n",
    "cat_ftrs = ['disbursement_method','initial_listing_status','public_record_bankrupt','tax_liens','num_accounts_30d_past_due','verified_income','homeownership']\n",
    "cont_ftrs = ['debt_to_income','paid_late_fees','paid_interest','paid_principal','paid_total','balance','loan_amount','account_never_delinq_percent','num_mort_accounts','num_cc_carrying_balance','num_open_cc_accounts','num_total_cc_accounts','total_debit_limit','num_active_debit_accounts','num_satisfactory_accounts','accounts_opened_24m','current_installment_accounts','num_historical_failed_to_pay','num_collections_last_12m','total_credit_utilized','total_credit_limit','open_credit_lines','total_credit_lines','inquiries_last_12m','earliest_credit_line','delinq_2y','annual_income']\n",
    "\n",
    "# collect all the encoders\n",
    "preprocessor = ColumnTransformer(transformers=[\n",
    "            ('minmax', MinMaxScaler(), cont_ftrs),\n",
    "            ('ord', OrdinalEncoder(), cat_ftrs)])\n",
    "\n",
    "clf = Pipeline(steps=[('preprocessor', preprocessor)]) # for now we only preprocess \n",
    "                                                       # later on we will add other steps here\n",
    "Xprep = clf.fit_transform(X)\n",
    "Xprep.shape"
   ]
  },
  {
   "cell_type": "markdown",
   "id": "ba7609fd",
   "metadata": {},
   "source": [
    "Random Forest Regressor"
   ]
  },
  {
   "cell_type": "code",
   "execution_count": 19,
   "id": "db481a1d",
   "metadata": {},
   "outputs": [
    {
     "data": {
      "text/plain": [
       "RandomForestRegressor(max_depth=5, max_leaf_nodes=5)"
      ]
     },
     "execution_count": 19,
     "metadata": {},
     "output_type": "execute_result"
    }
   ],
   "source": [
    "from sklearn.ensemble import RandomForestRegressor\n",
    "model = RandomForestRegressor(max_depth=5, random_state=None,max_features='auto',max_leaf_nodes=5,n_estimators=100)\n",
    "model.fit(Xprep, y)"
   ]
  },
  {
   "cell_type": "code",
   "execution_count": 20,
   "id": "30fb56e7",
   "metadata": {},
   "outputs": [
    {
     "name": "stdout",
     "output_type": "stream",
     "text": [
      "Regression coefficient (R2): 0.6767052087291796\n"
     ]
    }
   ],
   "source": [
    "print(\"Regression coefficient (R2):\",model.score(Xprep,y))"
   ]
  },
  {
   "cell_type": "markdown",
   "id": "d4216423",
   "metadata": {},
   "source": [
    "Decision Tree Regressor"
   ]
  },
  {
   "cell_type": "code",
   "execution_count": 21,
   "id": "81624fb5",
   "metadata": {},
   "outputs": [
    {
     "data": {
      "text/plain": [
       "DecisionTreeRegressor(max_depth=5)"
      ]
     },
     "execution_count": 21,
     "metadata": {},
     "output_type": "execute_result"
    }
   ],
   "source": [
    "from sklearn import tree\n",
    "tree_model = tree.DecisionTreeRegressor(max_depth=5,random_state=None)\n",
    "tree_model.fit(Xprep,y)"
   ]
  },
  {
   "cell_type": "code",
   "execution_count": 22,
   "id": "1d9bde7c",
   "metadata": {},
   "outputs": [
    {
     "name": "stdout",
     "output_type": "stream",
     "text": [
      "Regression coefficient (R2): 0.8371680381063895\n"
     ]
    }
   ],
   "source": [
    "print(\"Regression coefficient (R2):\",tree_model.score(Xprep,y))"
   ]
  },
  {
   "cell_type": "code",
   "execution_count": null,
   "id": "3901baf4",
   "metadata": {},
   "outputs": [],
   "source": []
  }
 ],
 "metadata": {
  "kernelspec": {
   "display_name": "Python 3",
   "language": "python",
   "name": "python3"
  },
  "language_info": {
   "codemirror_mode": {
    "name": "ipython",
    "version": 3
   },
   "file_extension": ".py",
   "mimetype": "text/x-python",
   "name": "python",
   "nbconvert_exporter": "python",
   "pygments_lexer": "ipython3",
   "version": "3.8.8"
  }
 },
 "nbformat": 4,
 "nbformat_minor": 5
}
